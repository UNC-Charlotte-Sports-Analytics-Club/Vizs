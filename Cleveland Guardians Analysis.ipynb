{
 "cells": [
  {
   "cell_type": "markdown",
   "id": "47f88ada",
   "metadata": {},
   "source": [
    "# An Analysis of the Cleveland Guardians – June 10th, 2024\n",
    "### By: Eddie Dew [@da_mountain_dew](https://x.com/da_mountain_dew)\n",
    "[Github](https://github.com/EddietheProgrammer) [Linkedin](https://www.linkedin.com/in/edde/)\n",
    "\n",
    "\n",
    "**Disclaimer:** Shoutout to [pybaseball](https://github.com/jldbc/pybaseball) for scraping most of these webpages for me, making it easier to load data. Feel free to check them out."
   ]
  },
  {
   "cell_type": "markdown",
   "id": "8c0ccef9",
   "metadata": {},
   "source": [
    "# Introduction\n",
    "\n",
    "The Cleveland Guardians boast an impressive 42-22 record through 64 games in this MLB season. In this article, we delve into the myriad reasons behind their success and explore a simple Monte Carlo simulation to project their potential final win tally based on their seasonal run productivity.\n",
    "\n",
    "The primary aim of this article is to offer a comprehensive blend of in-depth code analysis and polished writing, catering to both programmers and fans alike. Extensive effort has been invested to achieve this balance. Enjoy the read!"
   ]
  },
  {
   "cell_type": "code",
   "execution_count": 1,
   "id": "0b784375",
   "metadata": {},
   "outputs": [],
   "source": [
    "########### Importing libraries ################################################################\n",
    "########### If you are trying to run this cell and encounter an ModuleNotFoundError: ###########\n",
    "########### make a new cell and run %pip install [package name that produced error] ############\n",
    "\n",
    "import pybaseball\n",
    "import pandas as pd\n",
    "import numpy as np\n",
    "import datetime\n",
    "import requests\n",
    "from bs4 import BeautifulSoup\n",
    "import matplotlib.pyplot as plt\n",
    "from matplotlib.offsetbox import OffsetImage, AnnotationBbox\n",
    "from tqdm import tqdm\n",
    "from sklearn import linear_model\n",
    "import os\n",
    "import warnings\n",
    "\n",
    "warnings.filterwarnings('ignore')"
   ]
  },
  {
   "cell_type": "code",
   "execution_count": 2,
   "id": "5a4a2679",
   "metadata": {},
   "outputs": [],
   "source": [
    "def make_ids(df: pd.DataFrame, param: str) -> pd.DataFrame():\n",
    "    \"\"\"\n",
    "    Custom made ids by sorting the team names then autogenerating them. Will come in handy \n",
    "    with mapping tables to the Image.\n",
    "    \"\"\"\n",
    "    df = df.sort_values(by = param)\n",
    "    df['id'] = range(1, len(df) + 1)\n",
    "    return df\n"
   ]
  },
  {
   "cell_type": "code",
   "execution_count": 3,
   "id": "c4d2876b",
   "metadata": {},
   "outputs": [],
   "source": [
    "# Setting up the directory to load in the team logos. These are uploaded on the GitHub link below:\n",
    "# https://github.com/UNC-Charlotte-Sports-Analytics-Club/Vizs/blob/main/mlb-logos/{}.png?raw=true\n",
    "# {} - image id number\n",
    "\n",
    "directory = './mlb_logos'\n",
    "\n",
    "# Formatting ID number to the respective png file for mapping purposes\n",
    "ids = {int(logo.split('.')[0]): logo for logo in os.listdir(directory) if logo.endswith('.png')}"
   ]
  },
  {
   "cell_type": "markdown",
   "id": "3126156b",
   "metadata": {},
   "source": [
    "# 1. Bullpen\n",
    "\n",
    "The bullpen deserves significant praise for its exceptional performance this season. Despite a rocky start for the starting pitchers, the bullpen has maintained its dominance. Established names like Emmanuel Clase, Eli Morgan, and Nick Sandlin have been joined by newcomers like Hunter Gaddis and Cade Smith, who have seamlessly integrated into the bullpen rotation. Cleveland's consistent success can be attributed to their reliable pitching, with the team ranking 6th in most wins by any ball club since 2010.\n",
    "\n",
    "Consistency is the hallmark of their bullpen, which has consistently ranked in the top 10 throughout the 2020s, and this season is no exception. Currently leading the league with the best bullpen ERA, lowest batting average against, and the third-most strikeouts, they excel from the 7th inning onward, boasting a remarkable 2.10 ERA, the best in baseball. Their ability to keep games close and facilitate comebacks makes them formidable opponents.\n",
    "\n",
    "Advanced statistics further highlight their prowess, with the team boasting the league's best FIP of 2.68 and a league-best 2.57 BB/9. Their knack for getting batters out while minimizing walks underscores their pitching excellence. Credit is due to the coaching staff and front office for effectively utilizing pitchers to their strengths. ![image](./Guardians-vizs/bullpen.png)\n",
    "\n",
    "While numerous players deserve recognition for their contributions, Emmanuel Clase stands out as the linchpin of the bullpen. The elite closer is poised for another outstanding season, currently ranking second in saves with 19. Sporting an impressive 0.57 ERA and 1.91 FIP, Clase has returned to peak form after a somewhat subdued performance last year. Notably, he has increased his outside zone swing percentage by 6% compared to last season, demonstrating improved pitch execution.\n",
    "![image](./Guardians-vizs/clase.png)\n",
    "\n",
    "A subtle adjustment to his cutter has yielded remarkable results, as evidenced by increased horizontal movement and decreased weak contact. With a Stuff+ score of 146, Clase's pitch arsenal is nearly **1.5** times more effective than the average pitcher, a testament to his exceptional abilities.\n",
    "\n",
    "While Clase's performance stands out, it's important to acknowledge that the bullpen as a whole has been thriving this season. However, delving into Clase's exceptional numbers sheds light on the bullpen's overall success without overshadowing other noteworthy achievements of the team this season.\n"
   ]
  },
  {
   "cell_type": "markdown",
   "id": "9d772b9d",
   "metadata": {},
   "source": [
    "# 2. Timely Hitting\n",
    "\n",
    "The Guardians have embraced the philosophy of small ball, prioritizing putting the ball in play and moving runners around over raw power. In today's game, characterized by many teams relying on sluggers who either strike out or hit home runs, there's a resurgence of power-speed players finding their place in the new era of hitting. Young hitters like Elly De La Cruz and Bobby Witt Jr. have made significant impacts with their talent for hitting and base running.\n",
    "\n",
    "The Guardians have begun adopting this philosophy, reflected in their increased power numbers this year (albeit from a small sample size) compared to last year. Let's examine their hitting splits since 2021:\n",
    "\n",
    "* 2021: .238 BA | .710 OPS | 109 SB \n",
    "* 2022: .254 BA | .699 OPS | 119 SB \n",
    "* 2023: .250 BA | .694 OPS | 151 SB \n",
    "* 2024: .240 BA | .718 OPS | 58 SB \n",
    "\n",
    "These stats illustrate the evolution of their hitting approach. In 2021, they were a power-hitting team with a higher strikeout rate (23%) and fewer stolen bases. In 2022, roster changes led to the formation of one of the youngest teams in baseball, emphasizing small ball and reducing strikeouts. Their playstyle has continued to evolve this season, resembling their 2021 form in terms of power hitting and on-base ability, while significantly enhancing their stolen base success (on pace for 147 stolen bases).\n",
    "\n",
    "Using Bill James's [Power/Speed Number](https://www.baseball-reference.com/bullpen/Power/speed_number#:~:text=Bill%20James%20invented%20the%20Power,stat%20with%20little%20analytical%20value.), the Guardians rank 8th, indicating a balanced approach between speed and power. This balance aligns with their hitting philosophy, emphasizing moving runners. They have also maintained a consistently lower strikeout rate, in line with previous seasons. This year, they've been efficient at scoring runs, as depicted in the plot below.\n",
    "![image](./Guardians-vizs/team_scoring.png)\n",
    "\n",
    "Overall, the team's hitting performance has significantly improved compared to previous years. Notably, they excel with runners on base and in scoring position, leading all teams with a league-best .881 OPS and .372 wOBA in these situations. Being efficient with runners in scoring position is what generates World Series winning teams. From 2017 to 2022, teams that finished in the top 5 in wOBA with runners in scoring position won the pennant. The last time a team won a World Series without finishing top 10 in this metric was the San Francisco Giants in 2014. Timely hits matter. \n",
    "\n",
    "Notable Guardians hitters include Jose Ramirez, who has been on a tear after a slow start to the season, Steven Kwan, enjoying a bounce-back season with a .370 batting average, and David Fry, who has emerged out of nowhere with a .333 batting average. Josh Naylor has contributed power to the lineup with 16 home runs, complementing Ramirez's efforts. While I won't delve too deeply into their stats, their performances are worth further investigation.\n",
    "\n",
    "While the Guardians excel in hitting, they also pose a threat on the basepaths, ranking 9th in baseball with 58 stolen bases. This is intriguing because they are not known for their speed; their average sprint speed is below average, which explains why they have been caught stealing 24 times. However, their aggressive approach on the basepaths demonstrates their commitment to maximizing scoring opportunities."
   ]
  },
  {
   "cell_type": "markdown",
   "id": "feb9ecec",
   "metadata": {},
   "source": [
    "# 3. Catching\n",
    "\n",
    "I took a look into the Guardians defense and so far, they are doing pretty well. Their Defensive Runs Saved is 30 which ranks 3rd in the majors which is a big plus. Their outfield has been the bright spot by keeping runners at bay with their arm. Their infield is a little below average and could be hindering their range factor, but their hitting compensates for this. That's being a little picky, but still something to mention. What I want to highlight is their defensive catching. Austin Hedges was their primary leader when he came over in 2020 and has instilled a positive culture in the dugout. His defense prowess has impacted young catcher Bo Naylor. While having some difficulties with the bat, Naylor has stepped up his defense behind the plate. He is getting a 50.5% called strike rate on pitches around the shadow zone (47.2% in 2023), **5th** best in the majors. Most of these calls come from an outside pitch to a right handed hitter. Here's an overall look at where the Guardian's catchers get strikes called in the shadow zone. ![image](./Guardians-vizs/catching.png)\n",
    "Austin Hedges has continued to do his job in addition throwing 30% of runners out so far this season (Naylor is at 18% for those wondering). While the fielding and catching statistics may not wow you, they are important at keeping the Guardians competitive in games, especially stealing strikes to help with their top notch pitching.  "
   ]
  },
  {
   "cell_type": "markdown",
   "id": "58ef792b",
   "metadata": {},
   "source": [
    "# Monte Carlo Simulation\n",
    "\n",
    "I've given you some analysis and background for the Guardians. I now want to have a little fun to see where they rank, team strength included, in run production compared to other teams. I then will show a Monte Carlo simulation using those run production values to try to predict how many wins the Guardians may have by the end of the season.\n",
    "\n",
    "### Modeling Run Production – Adjusted for Opponent\n",
    "\n",
    "I was inspired by an article written by [@BudDavis](https://x.com/JBudDavis) on using [Ridge Regression] (https://blog.collegefootballdata.com/opponent-adjusted-stats-ridge-regression/) for adjusting team's stats to their opponent. He did it for College Football using Expected Points Added (EPA) as the target feature to adjust. I wanted to do something similar for baseball, but was unsure of what stat to pick. Since EPA is directly related to points contributed to a team, I figured why not do the same for baseball, so I decided to pick the stat I felt best with creating runs, [Weighted Runs Above Average](https://library.fangraphs.com/offense/wraa/) (wRAA). Essentially, this stat measures the number of runs a player contributes to their team compared to the average player. Keep in mind wRAA may be benefit teams with more plate appearances as they get more opportunities to score runs. \n",
    "\n",
    "That takes me into the data clensing for the model. I downloaded a csv from the Fangraph's [Guts](https://www.fangraphs.com/guts.aspx?type=cn) page to compute the weights for wOBA (weighted on base averge), which is feeded into wRAA. The derivitation is shown in the code below."
   ]
  },
  {
   "cell_type": "code",
   "execution_count": 7,
   "id": "066430da",
   "metadata": {},
   "outputs": [
    {
     "data": {
      "text/plain": [
       "{'Season': 2024,\n",
       " 'wOBA': 0.309,\n",
       " 'wOBAScale': 1.267,\n",
       " 'wBB': 0.693,\n",
       " 'wHBP': 0.724,\n",
       " 'w1B': 0.889,\n",
       " 'w2B': 1.269,\n",
       " 'w3B': 1.612,\n",
       " 'wHR': 2.083,\n",
       " 'runSB': 0.2,\n",
       " 'runCS': -0.401,\n",
       " 'R/PA': 0.116,\n",
       " 'R/W': 9.592,\n",
       " 'cFIP': 3.151}"
      ]
     },
     "execution_count": 7,
     "metadata": {},
     "output_type": "execute_result"
    }
   ],
   "source": [
    "fg_batting = pybaseball.team_batting(2024) # Extract team data (specifically for this, the team abbreviations)\n",
    "\n",
    "weights = pd.read_csv('/Users/eddie/Downloads/FanGraphs Leaderboard.csv').query('Season == 2024')\n",
    "weights = weights.to_dict(orient='list')\n",
    "weights = {key: value[0] for key, value in weights.items()}\n",
    "\n",
    "teams = fg_batting['Team'].tolist()\n",
    "\n",
    "weights"
   ]
  },
  {
   "cell_type": "code",
   "execution_count": 8,
   "id": "4e4ae4ae",
   "metadata": {},
   "outputs": [],
   "source": [
    "# Function that derives wRAA for us using the weights.\n",
    "\n",
    "def compute_wRAA(df, weights):\n",
    "    def compute_woba(row):\n",
    "        wBB = weights['wBB']\n",
    "        wHBP = weights['wHBP']\n",
    "        w1B = weights['w1B']\n",
    "        w2B = weights['w2B']\n",
    "        w3B = weights['w3B']\n",
    "        wHR = weights['wHR']\n",
    "        \n",
    "        wOBA = (wBB * row['BB'] + wHBP * row['HBP'] + w1B * row['1B'] + \n",
    "                w2B * row['2B'] + w3B * row['3B'] + wHR * row['HR']) / (\n",
    "                row['AB'] + row['BB'] - row['IBB'] + row['SF'] + row['HBP'])\n",
    "        return wOBA\n",
    "    \n",
    "    df['wOBA'] = df.apply(compute_woba, axis=1)\n",
    "    \n",
    "    league_wOBA = weights['wOBA']\n",
    "    wOBA_scale = weights['wOBAScale']\n",
    "    \n",
    "    df['wRAA'] = ((df['wOBA'] - league_wOBA) / wOBA_scale) * df['PA']\n",
    "    \n",
    "    return df"
   ]
  },
  {
   "cell_type": "code",
   "execution_count": 9,
   "id": "4f5b4115",
   "metadata": {},
   "outputs": [
    {
     "name": "stderr",
     "output_type": "stream",
     "text": [
      "Extracting Batting Data: 100%|██████████████████| 30/30 [02:54<00:00,  5.81s/it]\n"
     ]
    }
   ],
   "source": [
    "# Load the team schedules to obtain the team, opponent, and location data. This may take a bit.\n",
    "hitting_schedule = pd.DataFrame()\n",
    "\n",
    "for team in tqdm(teams, desc='Extracting Batting Data'):\n",
    "    sub_df = pybaseball.team_game_logs(2024, team, \"batting\")\n",
    "    sub_df.insert(2, 'team', team)\n",
    "    sub_df['BB'] = sub_df['BB'] - sub_df['IBB']\n",
    "    sub_df['1B'] = sub_df['H'] - sub_df['2B'] - sub_df['3B'] - sub_df['HR']\n",
    "    hitting_schedule = pd.concat([hitting_schedule, sub_df], ignore_index = True)\n",
    "\n"
   ]
  },
  {
   "cell_type": "code",
   "execution_count": 10,
   "id": "cb67310a",
   "metadata": {},
   "outputs": [],
   "source": [
    "hitting_schedule = compute_wRAA(hitting_schedule, weights)\n",
    "\n",
    "hitting_schedule = hitting_schedule[['team', 'Home', 'Opp', 'wRAA']]\n",
    "\n",
    "hitting_schedule['hfa'] = np.where(hitting_schedule['Home'] == True, 1, -1)\n",
    "# No neutral site games until June 20th and August 18th, so that won't matter for this.\n",
    "\n",
    "hitting_schedule.drop('Home', axis = 1, inplace = True)"
   ]
  },
  {
   "cell_type": "markdown",
   "id": "48a7941b",
   "metadata": {},
   "source": [
    "Ridge Regression, in simple terms, applies an L2 regularization by introducing a penalty term (alpha in this model's case) to the square of coefficients, which mitigates issues through \"shrinkage,\" pushing these coefficients towards 0. This technique is particularly useful for computing opponent-adjusted stats compared to averaging methods because it addresses multicollinearity, which can result in higher variance in the results. While the averaging method is effective and achieves the goal of normalizing teams based on their opponent's strength, Ridge Regression offers a more reliable approach to the normalization process. For a deeper understanding of why and how Ridge Regression functions in this context, I recommend reading the article authored by [@BudDavis](https://x.com/JBudDavis), linked above."
   ]
  },
  {
   "cell_type": "code",
   "execution_count": 11,
   "id": "9102c3c1",
   "metadata": {},
   "outputs": [
    {
     "data": {
      "text/html": [
       "<style>#sk-container-id-1 {color: black;background-color: white;}#sk-container-id-1 pre{padding: 0;}#sk-container-id-1 div.sk-toggleable {background-color: white;}#sk-container-id-1 label.sk-toggleable__label {cursor: pointer;display: block;width: 100%;margin-bottom: 0;padding: 0.3em;box-sizing: border-box;text-align: center;}#sk-container-id-1 label.sk-toggleable__label-arrow:before {content: \"▸\";float: left;margin-right: 0.25em;color: #696969;}#sk-container-id-1 label.sk-toggleable__label-arrow:hover:before {color: black;}#sk-container-id-1 div.sk-estimator:hover label.sk-toggleable__label-arrow:before {color: black;}#sk-container-id-1 div.sk-toggleable__content {max-height: 0;max-width: 0;overflow: hidden;text-align: left;background-color: #f0f8ff;}#sk-container-id-1 div.sk-toggleable__content pre {margin: 0.2em;color: black;border-radius: 0.25em;background-color: #f0f8ff;}#sk-container-id-1 input.sk-toggleable__control:checked~div.sk-toggleable__content {max-height: 200px;max-width: 100%;overflow: auto;}#sk-container-id-1 input.sk-toggleable__control:checked~label.sk-toggleable__label-arrow:before {content: \"▾\";}#sk-container-id-1 div.sk-estimator input.sk-toggleable__control:checked~label.sk-toggleable__label {background-color: #d4ebff;}#sk-container-id-1 div.sk-label input.sk-toggleable__control:checked~label.sk-toggleable__label {background-color: #d4ebff;}#sk-container-id-1 input.sk-hidden--visually {border: 0;clip: rect(1px 1px 1px 1px);clip: rect(1px, 1px, 1px, 1px);height: 1px;margin: -1px;overflow: hidden;padding: 0;position: absolute;width: 1px;}#sk-container-id-1 div.sk-estimator {font-family: monospace;background-color: #f0f8ff;border: 1px dotted black;border-radius: 0.25em;box-sizing: border-box;margin-bottom: 0.5em;}#sk-container-id-1 div.sk-estimator:hover {background-color: #d4ebff;}#sk-container-id-1 div.sk-parallel-item::after {content: \"\";width: 100%;border-bottom: 1px solid gray;flex-grow: 1;}#sk-container-id-1 div.sk-label:hover label.sk-toggleable__label {background-color: #d4ebff;}#sk-container-id-1 div.sk-serial::before {content: \"\";position: absolute;border-left: 1px solid gray;box-sizing: border-box;top: 0;bottom: 0;left: 50%;z-index: 0;}#sk-container-id-1 div.sk-serial {display: flex;flex-direction: column;align-items: center;background-color: white;padding-right: 0.2em;padding-left: 0.2em;position: relative;}#sk-container-id-1 div.sk-item {position: relative;z-index: 1;}#sk-container-id-1 div.sk-parallel {display: flex;align-items: stretch;justify-content: center;background-color: white;position: relative;}#sk-container-id-1 div.sk-item::before, #sk-container-id-1 div.sk-parallel-item::before {content: \"\";position: absolute;border-left: 1px solid gray;box-sizing: border-box;top: 0;bottom: 0;left: 50%;z-index: -1;}#sk-container-id-1 div.sk-parallel-item {display: flex;flex-direction: column;z-index: 1;position: relative;background-color: white;}#sk-container-id-1 div.sk-parallel-item:first-child::after {align-self: flex-end;width: 50%;}#sk-container-id-1 div.sk-parallel-item:last-child::after {align-self: flex-start;width: 50%;}#sk-container-id-1 div.sk-parallel-item:only-child::after {width: 0;}#sk-container-id-1 div.sk-dashed-wrapped {border: 1px dashed gray;margin: 0 0.4em 0.5em 0.4em;box-sizing: border-box;padding-bottom: 0.4em;background-color: white;}#sk-container-id-1 div.sk-label label {font-family: monospace;font-weight: bold;display: inline-block;line-height: 1.2em;}#sk-container-id-1 div.sk-label-container {text-align: center;}#sk-container-id-1 div.sk-container {/* jupyter's `normalize.less` sets `[hidden] { display: none; }` but bootstrap.min.css set `[hidden] { display: none !important; }` so we also need the `!important` here to be able to override the default hidden behavior on the sphinx rendered scikit-learn.org. See: https://github.com/scikit-learn/scikit-learn/issues/21755 */display: inline-block !important;position: relative;}#sk-container-id-1 div.sk-text-repr-fallback {display: none;}</style><div id=\"sk-container-id-1\" class=\"sk-top-container\"><div class=\"sk-text-repr-fallback\"><pre>Ridge(alpha=75)</pre><b>In a Jupyter environment, please rerun this cell to show the HTML representation or trust the notebook. <br />On GitHub, the HTML representation is unable to render, please try loading this page with nbviewer.org.</b></div><div class=\"sk-container\" hidden><div class=\"sk-item\"><div class=\"sk-estimator sk-toggleable\"><input class=\"sk-toggleable__control sk-hidden--visually\" id=\"sk-estimator-id-1\" type=\"checkbox\" checked><label for=\"sk-estimator-id-1\" class=\"sk-toggleable__label sk-toggleable__label-arrow\">Ridge</label><div class=\"sk-toggleable__content\"><pre>Ridge(alpha=75)</pre></div></div></div></div></div>"
      ],
      "text/plain": [
       "Ridge(alpha=75)"
      ]
     },
     "execution_count": 11,
     "metadata": {},
     "output_type": "execute_result"
    }
   ],
   "source": [
    "df_dummies = pd.get_dummies(hitting_schedule[['team', 'Opp', 'hfa']])\n",
    "\n",
    "\n",
    "# Tuning alpha parameter\n",
    "ridge_tune = linear_model.RidgeCV(alphas = [25,50,75,100,125,150,175, 200], fit_intercept = True)\n",
    "ridge_tune.fit(df_dummies, hitting_schedule['wRAA'])\n",
    "alpha = ridge_tune.alpha_\n",
    "\n",
    "\n",
    "ridge = linear_model.Ridge(alpha=alpha, fit_intercept = True)\n",
    "ridge.fit(X = df_dummies, y = hitting_schedule['wRAA'])"
   ]
  },
  {
   "cell_type": "code",
   "execution_count": 12,
   "id": "392b342f",
   "metadata": {},
   "outputs": [
    {
     "name": "stdout",
     "output_type": "stream",
     "text": [
      "Homefield Advantage: (alpha: 75)\n",
      "0.057\n"
     ]
    }
   ],
   "source": [
    "df_results = pd.DataFrame({'coef_name' : df_dummies.columns.values, 'ridge_coef' : ridge.coef_})\n",
    "\n",
    "# Add intercept back in to reg coef to get 'adjusted' value\n",
    "df_results['ridge_reg_value'] = (df_results['ridge_coef']+ridge.intercept_)\n",
    "\n",
    "print('Homefield Advantage: (alpha: '+str(alpha)+')')\n",
    "print('{:.3f}'.format(df_results[df_results['coef_name'] == 'hfa']['ridge_coef'][0]))"
   ]
  },
  {
   "cell_type": "code",
   "execution_count": 13,
   "id": "dd0d3f98",
   "metadata": {},
   "outputs": [],
   "source": [
    "df_team = pd.DataFrame({'team' : teams})"
   ]
  },
  {
   "cell_type": "code",
   "execution_count": 14,
   "id": "36dd0ac0",
   "metadata": {},
   "outputs": [],
   "source": [
    "df_adj_hitting = (df_results[df_results['coef_name'].str.slice(0, len('team')) == 'team'].rename(columns = {\"ridge_reg_value\": 'wRAA'}).reset_index(drop = True))\n",
    "\n",
    "df_adj_hitting['coef_name'] = df_adj_hitting['coef_name'].str.replace('team'+'_','')\n",
    "df_adj_hitting = df_adj_hitting.drop(columns=['ridge_coef'])"
   ]
  },
  {
   "cell_type": "code",
   "execution_count": 15,
   "id": "45c3546a",
   "metadata": {},
   "outputs": [],
   "source": [
    "df_adj_pitching = (df_results[df_results['coef_name'].str.slice(0, len('Opp')) == 'Opp'].rename(columns = {\"ridge_reg_value\": 'wRAA'}).reset_index(drop = True))\n",
    "\n",
    "df_adj_pitching['coef_name'] = df_adj_pitching['coef_name'].str.replace('Opp'+'_','')\n",
    "df_adj_pitching = df_adj_pitching.drop(columns=['ridge_coef'])"
   ]
  },
  {
   "cell_type": "code",
   "execution_count": 16,
   "id": "aa42b147",
   "metadata": {},
   "outputs": [],
   "source": [
    "df_team['raw_hitting'] = df_team.join(hitting_schedule.groupby('team')['wRAA'].mean(), on='team').wRAA \n",
    "df_team['adj_hitting'] = df_team.join(df_adj_hitting.set_index('coef_name'), on='team').wRAA \n",
    "df_team['raw_pitching'] = df_team.join(hitting_schedule.groupby('Opp')['wRAA'].mean(), on='team').wRAA\n",
    "df_team['adj_pitching'] = df_team.join(df_adj_pitching.set_index('coef_name'), on='team').wRAA\n",
    "\n",
    "\n",
    "df_team = df_team.round(3)\n",
    "df_team = make_ids(df_team, 'team')"
   ]
  },
  {
   "cell_type": "markdown",
   "id": "55efe45f",
   "metadata": {},
   "source": [
    "# Results\n",
    "\n",
    "Here's the full standings of where teams rank with their wRAA adjusted for opponent.\n",
    "\n",
    "![image](./Guardians-vizs/adjusted.png)\n",
    "\n",
    "If you want to interpret this from the Guardians perspective, their stats may be a little inflated due to a weaker strength of schedule. They are still above average in scoring and preventing runs."
   ]
  },
  {
   "cell_type": "markdown",
   "id": "e88dc8ab",
   "metadata": {},
   "source": [
    "### Monte Carlo Simulation\n",
    "\n",
    "Now that the opponent-adjusted wRAA values have been derived, we can proceed with a Monte Carlo simulation. In simple terms, this involves running through numerous simulations on a computer to predict a certain outcome, in our case, wins.\n",
    "\n",
    "The technique used to determine whether a team wins or loses involves computing a random number of runs scored compared to the average for both the Guardians and their opponent using a random (Gaussian) normalization. If the Guardians are projected to score more runs than their opponent in a given simulation, they will be awarded a win.\n",
    "\n",
    "The simulation will run 10,000 times. If you prefer not to wait around for approximately 3 minutes, you can skip running the cells below and proceed to the results at the end."
   ]
  },
  {
   "cell_type": "code",
   "execution_count": 18,
   "id": "f79b2824",
   "metadata": {},
   "outputs": [
    {
     "name": "stdout",
     "output_type": "stream",
     "text": [
      "http://www.baseball-reference.com/teams/CLE/2024-schedule-scores.shtml\n"
     ]
    }
   ],
   "source": [
    "# Obtain Cleveland's remaining schedule\n",
    "cle = pybaseball.schedule_and_record(2024, \"CLE\")\n",
    "\n",
    "schedule = cle.loc[(cle['W/L'].isna()), 'Opp'].tolist()"
   ]
  },
  {
   "cell_type": "code",
   "execution_count": 19,
   "id": "16a8be4d",
   "metadata": {},
   "outputs": [],
   "source": [
    "def simulate_game(g_hitting, g_pitching, o_hitting, o_pitching):\n",
    "    g_score = np.random.normal(g_hitting - o_pitching)\n",
    "    o_score = np.random.normal(o_hitting - g_pitching)\n",
    "    return 1 if g_score > o_score else 0\n",
    "\n",
    "\n",
    "def monte_carlo(schedule, n_simulations = 10000):\n",
    "    wins = []\n",
    "    is_win = []\n",
    "    for _ in tqdm(range(n_simulations), desc='Running Simulation'):\n",
    "        win_count = 0\n",
    "        sub_win_list = []\n",
    "        for opponent in schedule:\n",
    "            opponent_data = df_team[df_team['team'] == opponent].iloc[0]\n",
    "            guardians_data = df_team[df_team['team'] == 'CLE'].iloc[0]\n",
    "            \n",
    "            win = simulate_game(\n",
    "                guardians_data['adj_hitting'], \n",
    "                guardians_data['adj_pitching'], \n",
    "                opponent_data['adj_hitting'], \n",
    "                opponent_data['adj_pitching']\n",
    "            )\n",
    "            win_count += win\n",
    "            sub_win_list.append(win)\n",
    "        wins.append(win_count)\n",
    "        is_win.append(sub_win_list)\n",
    "    return wins, is_win\n",
    "            "
   ]
  },
  {
   "cell_type": "code",
   "execution_count": 20,
   "id": "232e86f6",
   "metadata": {},
   "outputs": [
    {
     "name": "stderr",
     "output_type": "stream",
     "text": [
      "Running Simulation: 100%|█████████████████| 10000/10000 [02:58<00:00, 56.14it/s]\n"
     ]
    }
   ],
   "source": [
    "simulated_wins, win_trend = monte_carlo(schedule)"
   ]
  },
  {
   "cell_type": "markdown",
   "id": "c05f64c5",
   "metadata": {},
   "source": [
    "# Results\n",
    "\n",
    "![image](./Guardians-vizs/montecarlo.png)\n",
    "The simulation predicts the Guardians to win approximately 94 games in total this season based on their remaining schedule. While this provides a useful estimate of their performance, it's important to note that actual outcomes may vary due to factors such as injuries, changes in team dynamics, and unforeseen events during the season. Therefore, while the simulation offers valuable insights, it should not be solely relied upon for betting purposes."
   ]
  },
  {
   "cell_type": "markdown",
   "id": "cb00f131",
   "metadata": {},
   "source": [
    "# Conclusion\n",
    "\n",
    "I appreciate your time and attention in reading through this article. If you have any questions, comments, or concerns, please feel free to reach out to me via DM on Twitter (link above). I hope you found this article informative and enjoyable in some way. If you would like me to provide analysis for another team, please let me know."
   ]
  }
 ],
 "metadata": {
  "kernelspec": {
   "display_name": "Python 3 (ipykernel)",
   "language": "python",
   "name": "python3"
  },
  "language_info": {
   "codemirror_mode": {
    "name": "ipython",
    "version": 3
   },
   "file_extension": ".py",
   "mimetype": "text/x-python",
   "name": "python",
   "nbconvert_exporter": "python",
   "pygments_lexer": "ipython3",
   "version": "3.11.7"
  }
 },
 "nbformat": 4,
 "nbformat_minor": 5
}
